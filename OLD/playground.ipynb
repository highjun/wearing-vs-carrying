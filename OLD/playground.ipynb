{
 "cells": [
  {
   "cell_type": "code",
   "execution_count": 1,
   "id": "73a2aa45-3aea-42a6-91b0-8312f0b7894f",
   "metadata": {},
   "outputs": [],
   "source": [
    "from util import *\n",
    "df = load_bout()\n",
    "users = getSortedUser(df)\n",
    "n_user = len(users)"
   ]
  },
  {
   "cell_type": "code",
   "execution_count": 17,
   "id": "eca20f58-27bc-4b1c-9846-5de588d579b9",
   "metadata": {},
   "outputs": [],
   "source": [
    "df_ = df.query(\"weekday < 5\")\n",
    "watch = df_.query(\"btype!= 'p'\").groupby([\"uid\",\"date\", \"hour\"]).agg(wstep = (\"step\",\"sum\"), wcnt = (\"step\",\"count\"))\n",
    "total = df_.groupby([\"uid\",\"date\", \"hour\"]).agg(step = (\"step\",\"sum\"), cnt = (\"step\",\"count\"))\n",
    "tmp = pd.concat([watch,total],axis = 1).fillna(0)\n",
    "tmp = tmp.reset_index()\n",
    "train = []\n",
    "valid = []\n",
    "for id in set(df_[\"uid\"]):\n",
    "    udf = tmp.query(\"uid == @id\")\n",
    "    ntrain = round(udf.shape[0] * 0.75)\n",
    "    train.append(udf[:ntrain])\n",
    "    valid.append(udf[ntrain:])\n",
    "train = pd.concat(train)\n",
    "valid = pd.concat(valid)"
   ]
  },
  {
   "cell_type": "code",
   "execution_count": 24,
   "id": "70db9e0f-25a3-4a8b-b9c5-049601336dc0",
   "metadata": {},
   "outputs": [
    {
     "name": "stdout",
     "output_type": "stream",
     "text": [
      "                            OLS Regression Results                            \n",
      "==============================================================================\n",
      "Dep. Variable:                   step   R-squared:                       0.872\n",
      "Model:                            OLS   Adj. R-squared:                  0.872\n",
      "Method:                 Least Squares   F-statistic:                 1.399e+05\n",
      "Date:                Thu, 27 Jan 2022   Prob (F-statistic):               0.00\n",
      "Time:                        10:41:38   Log-Likelihood:            -1.4845e+05\n",
      "No. Observations:               20547   AIC:                         2.969e+05\n",
      "Df Residuals:                   20545   BIC:                         2.969e+05\n",
      "Df Model:                           1                                         \n",
      "Covariance Type:            nonrobust                                         \n",
      "==============================================================================\n",
      "                 coef    std err          t      P>|t|      [0.025      0.975]\n",
      "------------------------------------------------------------------------------\n",
      "const         88.3073      2.606     33.882      0.000      83.199      93.416\n",
      "wstep          0.9669      0.003    374.034      0.000       0.962       0.972\n",
      "==============================================================================\n",
      "Omnibus:                    41002.398   Durbin-Watson:                   1.477\n",
      "Prob(Omnibus):                  0.000   Jarque-Bera (JB):        165268977.069\n",
      "Skew:                          16.156   Prob(JB):                         0.00\n",
      "Kurtosis:                     441.177   Cond. No.                     1.13e+03\n",
      "==============================================================================\n",
      "\n",
      "Notes:\n",
      "[1] Standard Errors assume that the covariance matrix of the errors is correctly specified.\n",
      "[2] The condition number is large, 1.13e+03. This might indicate that there are\n",
      "strong multicollinearity or other numerical problems.\n",
      "332.3218804494447\n",
      "365.5367126828717\n"
     ]
    }
   ],
   "source": [
    "# Basic Regression\n",
    "import statsmodels.api as sm\n",
    "\n",
    "params = ['wstep']\n",
    "X = sm.add_constant(train[params])\n",
    "model = sm.OLS(train['step'],X)\n",
    "results = model.fit()\n",
    "print(results.summary())\n",
    "\n",
    "for data in [train,valid]:\n",
    "    X = sm.add_constant(data[params])\n",
    "    pred = model.predict(params = results.params, exog = X)\n",
    "    print(np.sqrt(np.mean((data['step'].to_numpy() - pred) **2)))\n",
    "\n"
   ]
  },
  {
   "cell_type": "code",
   "execution_count": 23,
   "id": "fd6db706-6251-41c4-9336-29cd9161b9c8",
   "metadata": {},
   "outputs": [
    {
     "name": "stdout",
     "output_type": "stream",
     "text": [
      "          Mixed Linear Model Regression Results\n",
      "==========================================================\n",
      "Model:            MixedLM Dependent Variable: step        \n",
      "No. Observations: 20547   Method:             REML        \n",
      "No. Groups:       84      Scale:              98758.3941  \n",
      "Min. group size:  80      Log-Likelihood:     -147449.3826\n",
      "Max. group size:  407     Converged:          Yes         \n",
      "Mean group size:  244.6                                   \n",
      "----------------------------------------------------------\n",
      "             Coef.   Std.Err.    z    P>|z| [0.025  0.975]\n",
      "----------------------------------------------------------\n",
      "Intercept     87.589   12.459   7.030 0.000 63.170 112.008\n",
      "wstep          0.979    0.003 385.091 0.000  0.974   0.984\n",
      "Group Var  12495.789    6.407                             \n",
      "==========================================================\n",
      "\n",
      "332.5321616364473\n",
      "365.5085351118036\n"
     ]
    }
   ],
   "source": [
    "# MultiLevel Regression\n",
    "# Random effect 1: uid\n",
    "import statsmodels.formula.api as smf\n",
    "\n",
    "params = ['wstep']\n",
    "model = smf.mixedlm(\"step ~ wstep\", data = train, groups = train['uid'])\n",
    "\n",
    "results = model.fit()\n",
    "print(results.summary())\n",
    "\n",
    "for data in [train,valid]:\n",
    "    pred = results.predict(exog = data[params])#groups = data['uid'])\n",
    "    print(np.sqrt(np.mean((data['step'].to_numpy() - pred) **2)))"
   ]
  },
  {
   "cell_type": "code",
   "execution_count": 25,
   "id": "f9d7a8d0-7220-4ecb-a178-faf607185998",
   "metadata": {},
   "outputs": [
    {
     "name": "stderr",
     "output_type": "stream",
     "text": [
      "/home/highjun/.local/lib/python3.8/site-packages/statsmodels/base/model.py:604: ConvergenceWarning: Maximum Likelihood optimization failed to converge. Check mle_retvals\n",
      "  warnings.warn(\"Maximum Likelihood optimization failed to \"\n",
      "/home/highjun/.local/lib/python3.8/site-packages/statsmodels/regression/mixed_linear_model.py:2200: ConvergenceWarning: Retrying MixedLM optimization with lbfgs\n",
      "  warnings.warn(\n",
      "/home/highjun/.local/lib/python3.8/site-packages/statsmodels/base/model.py:604: ConvergenceWarning: Maximum Likelihood optimization failed to converge. Check mle_retvals\n",
      "  warnings.warn(\"Maximum Likelihood optimization failed to \"\n",
      "/home/highjun/.local/lib/python3.8/site-packages/statsmodels/regression/mixed_linear_model.py:2200: ConvergenceWarning: Retrying MixedLM optimization with cg\n",
      "  warnings.warn(\n"
     ]
    },
    {
     "name": "stdout",
     "output_type": "stream",
     "text": [
      "          Mixed Linear Model Regression Results\n",
      "==========================================================\n",
      "Model:            MixedLM Dependent Variable: step        \n",
      "No. Observations: 20547   Method:             REML        \n",
      "No. Groups:       24      Scale:              109988.9338 \n",
      "Min. group size:  181     Log-Likelihood:     -148444.2799\n",
      "Max. group size:  1243    Converged:          No          \n",
      "Mean group size:  856.1                                   \n",
      "----------------------------------------------------------\n",
      "             Coef.   Std.Err.    z    P>|z| [0.025  0.975]\n",
      "----------------------------------------------------------\n",
      "Intercept     84.496    9.668   8.740 0.000 65.547 103.444\n",
      "wstep          0.964    0.003 369.749 0.000  0.959   0.969\n",
      "Group Var   2037.139                                      \n",
      "==========================================================\n",
      "\n",
      "332.36750163951615\n",
      "365.8116516286838\n"
     ]
    },
    {
     "name": "stderr",
     "output_type": "stream",
     "text": [
      "/home/highjun/.local/lib/python3.8/site-packages/statsmodels/base/model.py:604: ConvergenceWarning: Maximum Likelihood optimization failed to converge. Check mle_retvals\n",
      "  warnings.warn(\"Maximum Likelihood optimization failed to \"\n",
      "/home/highjun/.local/lib/python3.8/site-packages/statsmodels/regression/mixed_linear_model.py:2206: ConvergenceWarning: MixedLM optimization failed, trying a different optimizer may help.\n",
      "  warnings.warn(msg, ConvergenceWarning)\n",
      "/home/highjun/.local/lib/python3.8/site-packages/statsmodels/regression/mixed_linear_model.py:2218: ConvergenceWarning: Gradient optimization failed, |grad| = 104.719269\n",
      "  warnings.warn(msg, ConvergenceWarning)\n",
      "/home/highjun/.local/lib/python3.8/site-packages/statsmodels/regression/mixed_linear_model.py:2261: ConvergenceWarning: The Hessian matrix at the estimated parameter values is not positive definite.\n",
      "  warnings.warn(msg, ConvergenceWarning)\n"
     ]
    }
   ],
   "source": [
    "# MultiLevel Regression\n",
    "# Random effect 1: hour\n",
    "import statsmodels.formula.api as smf\n",
    "\n",
    "params = ['wstep']\n",
    "model = smf.mixedlm(\"step ~ wstep\", data = train, groups = train['hour'])\n",
    "\n",
    "results = model.fit()\n",
    "print(results.summary())\n",
    "\n",
    "for data in [train,valid]:\n",
    "    pred = results.predict(exog = data[params])#groups = data['uid'])\n",
    "    print(np.sqrt(np.mean((data['step'].to_numpy() - pred) **2)))"
   ]
  },
  {
   "cell_type": "code",
   "execution_count": null,
   "id": "4d9fc909-0eea-4825-bb90-c32678df829a",
   "metadata": {},
   "outputs": [],
   "source": []
  }
 ],
 "metadata": {
  "kernelspec": {
   "display_name": "Python 3 (ipykernel)",
   "language": "python",
   "name": "python3"
  },
  "language_info": {
   "codemirror_mode": {
    "name": "ipython",
    "version": 3
   },
   "file_extension": ".py",
   "mimetype": "text/x-python",
   "name": "python",
   "nbconvert_exporter": "python",
   "pygments_lexer": "ipython3",
   "version": "3.8.10"
  }
 },
 "nbformat": 4,
 "nbformat_minor": 5
}
