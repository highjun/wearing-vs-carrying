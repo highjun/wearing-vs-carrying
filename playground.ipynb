{
 "cells": [
  {
   "cell_type": "code",
   "execution_count": 1,
   "id": "73a2aa45-3aea-42a6-91b0-8312f0b7894f",
   "metadata": {},
   "outputs": [],
   "source": [
    "from util import *\n",
    "df = load_bout()\n",
    "users = getSortedUser(df)\n",
    "n_user = len(users)"
   ]
  },
  {
   "cell_type": "code",
   "execution_count": null,
   "id": "b31bd45f-a48b-4318-933b-1721c9983a99",
   "metadata": {},
   "outputs": [],
   "source": []
  }
 ],
 "metadata": {
  "kernelspec": {
   "display_name": "Python 3 (ipykernel)",
   "language": "python",
   "name": "python3"
  },
  "language_info": {
   "codemirror_mode": {
    "name": "ipython",
    "version": 3
   },
   "file_extension": ".py",
   "mimetype": "text/x-python",
   "name": "python",
   "nbconvert_exporter": "python",
   "pygments_lexer": "ipython3",
   "version": "3.8.10"
  }
 },
 "nbformat": 4,
 "nbformat_minor": 5
}
