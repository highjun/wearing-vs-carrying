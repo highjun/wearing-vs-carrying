{
 "cells": [
  {
   "cell_type": "code",
   "execution_count": 1,
   "source": [
    "import pandas as pd\n",
    "import numpy as np\n",
    "import matplotlib.pyplot as plt\n",
    "\n",
    "import json\n",
    "import os\n",
    "\n",
    "pd.set_option(\"precision\",2)\n",
    "pd.set_option(\"expand_frame_repr\", False)\n",
    "pd.set_option(\"max_columns\", 20)\n",
    "np.printoptions(precision=2, suppress=True)\n",
    "\n",
    "with open(\"../setting.json\") as f:\n",
    "    setting = json.load(f)\n",
    "data_arr = []\n",
    "for id in sorted(os.listdir(\"../Raw\")):\n",
    "    data_arr.append(pd.read_excel(f\"../Preprocess/{id}.xlsx\"))\n",
    "\n",
    "n_user = len(data_arr)\n",
    "data = pd.concat(data_arr, keys = list(range(1,n_user+1)))\n",
    "data[\"user\"] = data.index.get_level_values(0)\n",
    "data.reset_index(drop = True, inplace = True)"
   ],
   "outputs": [],
   "metadata": {}
  }
 ],
 "metadata": {
  "orig_nbformat": 4,
  "language_info": {
   "name": "python",
   "version": "3.8.5",
   "mimetype": "text/x-python",
   "codemirror_mode": {
    "name": "ipython",
    "version": 3
   },
   "pygments_lexer": "ipython3",
   "nbconvert_exporter": "python",
   "file_extension": ".py"
  },
  "kernelspec": {
   "name": "python3",
   "display_name": "Python 3.8.5 64-bit"
  },
  "interpreter": {
   "hash": "31f2aee4e71d21fbe5cf8b01ff0e069b9275f58929596ceb00d14d90e3e16cd6"
  }
 },
 "nbformat": 4,
 "nbformat_minor": 2
}